{
 "cells": [
  {
   "cell_type": "code",
   "execution_count": null,
   "id": "0fee704c-ba45-4f05-acd2-905004e4686c",
   "metadata": {},
   "outputs": [],
   "source": []
  }
 ],
 "metadata": {
  "kernelspec": {
   "display_name": "",
   "name": ""
  },
  "language_info": {
   "name": ""
  }
 },
 "nbformat": 4,
 "nbformat_minor": 5
}
