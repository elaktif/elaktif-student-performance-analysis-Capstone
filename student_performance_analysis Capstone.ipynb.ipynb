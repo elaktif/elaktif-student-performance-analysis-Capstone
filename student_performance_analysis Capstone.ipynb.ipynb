{
 "cells": [
  {
   "cell_type": "markdown",
   "id": "845c89ed-a4ac-4d7e-b892-da458c10a0d7",
   "metadata": {},
   "source": [
    "### Import pandas library\n",
    "\n",
    "This line is to get the pandas tool ready to use in our project.  "
   ]
  },
  {
   "cell_type": "code",
   "execution_count": 39,
   "id": "0fee704c-ba45-4f05-acd2-905004e4686c",
   "metadata": {},
   "outputs": [],
   "source": [
    "import pandas as pd\n",
    "\n"
   ]
  },
  {
   "cell_type": "markdown",
   "id": "a4d29b6d-6cef-40a9-a0fe-8f49b69e66ae",
   "metadata": {},
   "source": [
    "Here, we open the clean data files for Math and Portuguese.  \n",
    "We use `pd.read_csv()` to read the files and save the data in `math_data` and `por_data`.  \n",
    "Then, we print the size of each data set.  \n",
    "This shows how many rows and columns each file has.  It helps us know how big the data is."
   ]
  },
  {
   "cell_type": "code",
   "execution_count": 69,
   "id": "2498a2ea-306c-4f2d-8407-7f76d78987cd",
   "metadata": {},
   "outputs": [
    {
     "name": "stdout",
     "output_type": "stream",
     "text": [
      "Math data size: (395, 34)\n",
      "Portuguese data size: (649, 34)\n"
     ]
    }
   ],
   "source": [
    "\n",
    "math_data = pd.read_csv('./data/student_math_clean_new.csv')\n",
    "por_data = pd.read_csv('./data/student_portuguese_clean_new.csv')\n",
    "\n",
    "print(\"Math data size:\", math_data.shape)\n",
    "print(\"Portuguese data size:\", por_data.shape)\n"
   ]
  },
  {
   "cell_type": "markdown",
   "id": "6bc98541-c043-403f-a87c-621549007413",
   "metadata": {},
   "source": [
    "I made a small function called preview_dataset() to help me look at my data. It shows the name of the dataset, the size (how many rows and columns), and the first two rows. This helps me understand what is inside the data without writing the same code many times."
   ]
  },
  {
   "cell_type": "code",
   "execution_count": 62,
   "id": "54e8349a-d058-4299-9dee-a37a8d8f2e15",
   "metadata": {},
   "outputs": [
    {
     "name": "stdout",
     "output_type": "stream",
     "text": [
      "Preview of Math dataset:\n",
      "(395, 34)\n",
      "   student_id school sex  age address_type     family_size    parent_status  \\\n",
      "0           1     GP   F   18        Urban  Greater than 3            Apart   \n",
      "1           2     GP   F   17        Urban  Greater than 3  Living together   \n",
      "\n",
      "                mother_education               father_education mother_job  \\\n",
      "0               higher education               higher education    at_home   \n",
      "1  primary education (4th grade)  primary education (4th grade)    at_home   \n",
      "\n",
      "   ... family_relationship free_time social weekday_alcohol weekend_alcohol  \\\n",
      "0  ...                   4         3      4               1               1   \n",
      "1  ...                   5         3      3               1               1   \n",
      "\n",
      "   health absences grade_1 grade_2 final_grade  \n",
      "0       3        6       5       6           6  \n",
      "1       3        4       5       5           6  \n",
      "\n",
      "[2 rows x 34 columns]\n",
      "----------------------------------------\n",
      "Preview of Portuguese dataset:\n",
      "(649, 34)\n",
      "   student_id school sex  age address_type     family_size    parent_status  \\\n",
      "0           1     GP   F   18        Urban  Greater than 3            Apart   \n",
      "1           2     GP   F   17        Urban  Greater than 3  Living together   \n",
      "\n",
      "                mother_education               father_education mother_job  \\\n",
      "0               higher education               higher education    at_home   \n",
      "1  primary education (4th grade)  primary education (4th grade)    at_home   \n",
      "\n",
      "   ... family_relationship free_time social weekday_alcohol weekend_alcohol  \\\n",
      "0  ...                   4         3      4               1               1   \n",
      "1  ...                   5         3      3               1               1   \n",
      "\n",
      "   health absences grade_1 grade_2 final_grade  \n",
      "0       3        4       0      11          11  \n",
      "1       3        2       9      11          11  \n",
      "\n",
      "[2 rows x 34 columns]\n",
      "----------------------------------------\n"
     ]
    }
   ],
   "source": [
    "def preview_dataset(df, name):\n",
    "    print(f\"Preview of {name} dataset:\")\n",
    "    print(df.shape)\n",
    "    print(df.head(2))\n",
    "    print(\"-\" * 40)\n",
    "\n",
    "# Then call it like this:\n",
    "preview_dataset(math_df, \"Math\")\n",
    "preview_dataset(por_df, \"Portuguese\")\n"
   ]
  },
  {
   "cell_type": "markdown",
   "id": "8e068ada-b617-497e-8e44-3de1566e5158",
   "metadata": {},
   "source": [
    "This function helps to quickly see how many rows and columns the data has, find any missing values in the columns, and know what type of data is in each column.\n",
    "I use this to understand the data better before working with it."
   ]
  },
  {
   "cell_type": "code",
   "execution_count": 63,
   "id": "373c99b6-4f39-4ff2-a59f-843a1ba2f505",
   "metadata": {},
   "outputs": [
    {
     "name": "stdout",
     "output_type": "stream",
     "text": [
      "--- Data info for Math Dataset ---\n",
      "Shape: (395, 34)\n",
      "Missing values in each column:\n",
      "student_id               0\n",
      "school                   0\n",
      "sex                      0\n",
      "age                      0\n",
      "address_type             0\n",
      "family_size              0\n",
      "parent_status            0\n",
      "mother_education         0\n",
      "father_education         0\n",
      "mother_job               0\n",
      "father_job               0\n",
      "school_choice_reason     0\n",
      "guardian                 0\n",
      "travel_time              0\n",
      "study_time               0\n",
      "class_failures           0\n",
      "school_support           0\n",
      "family_support           0\n",
      "extra_paid_classes       0\n",
      "activities               0\n",
      "nursery_school           0\n",
      "higher_ed                0\n",
      "internet_access          0\n",
      "romantic_relationship    0\n",
      "family_relationship      0\n",
      "free_time                0\n",
      "social                   0\n",
      "weekday_alcohol          0\n",
      "weekend_alcohol          0\n",
      "health                   0\n",
      "absences                 0\n",
      "grade_1                  0\n",
      "grade_2                  0\n",
      "final_grade              0\n",
      "dtype: int64\n",
      "\n",
      "Data types of columns:\n",
      "student_id                int64\n",
      "school                   object\n",
      "sex                      object\n",
      "age                       int64\n",
      "address_type             object\n",
      "family_size              object\n",
      "parent_status            object\n",
      "mother_education         object\n",
      "father_education         object\n",
      "mother_job               object\n",
      "father_job               object\n",
      "school_choice_reason     object\n",
      "guardian                 object\n",
      "travel_time              object\n",
      "study_time               object\n",
      "class_failures            int64\n",
      "school_support           object\n",
      "family_support           object\n",
      "extra_paid_classes       object\n",
      "activities               object\n",
      "nursery_school           object\n",
      "higher_ed                object\n",
      "internet_access          object\n",
      "romantic_relationship    object\n",
      "family_relationship       int64\n",
      "free_time                 int64\n",
      "social                    int64\n",
      "weekday_alcohol           int64\n",
      "weekend_alcohol           int64\n",
      "health                    int64\n",
      "absences                  int64\n",
      "grade_1                   int64\n",
      "grade_2                   int64\n",
      "final_grade               int64\n",
      "dtype: object\n",
      "\n",
      "\n",
      "--- Data info for Portuguese Dataset ---\n",
      "Shape: (649, 34)\n",
      "Missing values in each column:\n",
      "student_id               0\n",
      "school                   0\n",
      "sex                      0\n",
      "age                      0\n",
      "address_type             0\n",
      "family_size              0\n",
      "parent_status            0\n",
      "mother_education         0\n",
      "father_education         0\n",
      "mother_job               0\n",
      "father_job               0\n",
      "school_choice_reason     0\n",
      "guardian                 0\n",
      "travel_time              0\n",
      "study_time               0\n",
      "class_failures           0\n",
      "school_support           0\n",
      "family_support           0\n",
      "extra_paid_classes       0\n",
      "activities               0\n",
      "nursery_school           0\n",
      "higher_ed                0\n",
      "internet_access          0\n",
      "romantic_relationship    0\n",
      "family_relationship      0\n",
      "free_time                0\n",
      "social                   0\n",
      "weekday_alcohol          0\n",
      "weekend_alcohol          0\n",
      "health                   0\n",
      "absences                 0\n",
      "grade_1                  0\n",
      "grade_2                  0\n",
      "final_grade              0\n",
      "dtype: int64\n",
      "\n",
      "Data types of columns:\n",
      "student_id                int64\n",
      "school                   object\n",
      "sex                      object\n",
      "age                       int64\n",
      "address_type             object\n",
      "family_size              object\n",
      "parent_status            object\n",
      "mother_education         object\n",
      "father_education         object\n",
      "mother_job               object\n",
      "father_job               object\n",
      "school_choice_reason     object\n",
      "guardian                 object\n",
      "travel_time              object\n",
      "study_time               object\n",
      "class_failures            int64\n",
      "school_support           object\n",
      "family_support           object\n",
      "extra_paid_classes       object\n",
      "activities               object\n",
      "nursery_school           object\n",
      "higher_ed                object\n",
      "internet_access          object\n",
      "romantic_relationship    object\n",
      "family_relationship       int64\n",
      "free_time                 int64\n",
      "social                    int64\n",
      "weekday_alcohol           int64\n",
      "weekend_alcohol           int64\n",
      "health                    int64\n",
      "absences                  int64\n",
      "grade_1                   int64\n",
      "grade_2                   int64\n",
      "final_grade               int64\n",
      "dtype: object\n",
      "\n",
      "\n"
     ]
    }
   ],
   "source": [
    "check_data(math_df, \"Math Dataset\")\n",
    "check_data(por_df, \"Portuguese Dataset\")\n"
   ]
  },
  {
   "cell_type": "code",
   "execution_count": 46,
   "id": "a3b660e3-6742-4990-88c3-431e7d06af31",
   "metadata": {},
   "outputs": [
    {
     "name": "stdout",
     "output_type": "stream",
     "text": [
      "Index(['student_id', 'school', 'sex', 'age', 'address_type', 'family_size',\n",
      "       'parent_status', 'mother_education', 'father_education', 'mother_job',\n",
      "       'father_job', 'school_choice_reason', 'guardian', 'travel_time',\n",
      "       'study_time', 'class_failures', 'school_support', 'family_support',\n",
      "       'extra_paid_classes', 'activities', 'nursery_school', 'higher_ed',\n",
      "       'internet_access', 'romantic_relationship', 'family_relationship',\n",
      "       'free_time', 'social', 'weekday_alcohol', 'weekend_alcohol', 'health',\n",
      "       'absences', 'grade_1', 'grade_2', 'final_grade'],\n",
      "      dtype='object')\n"
     ]
    }
   ],
   "source": [
    "print(math_df.columns)\n",
    "\n"
   ]
  },
  {
   "cell_type": "code",
   "execution_count": 58,
   "id": "65bab24b-21c5-4bb8-8bfb-375b795cd55f",
   "metadata": {},
   "outputs": [],
   "source": [
    "# Select student info columns \n",
    "student_info_math = math_df[['student_id', 'school', 'sex', 'age', 'address_type', 'family_size', 'parent_status']]\n",
    "\n",
    "# Select grades columns\n",
    "grades_math = math_df[['student_id', 'grade_1', 'grade_2', 'final_grade']]\n"
   ]
  },
  {
   "cell_type": "code",
   "execution_count": 59,
   "id": "e5a1a57d-6f39-48cb-8121-fd2c6ce14008",
   "metadata": {},
   "outputs": [
    {
     "name": "stdout",
     "output_type": "stream",
     "text": [
      "Index(['student_id', 'school', 'sex', 'age', 'address_type', 'family_size',\n",
      "       'parent_status', 'mother_education', 'father_education', 'mother_job',\n",
      "       'father_job', 'school_choice_reason', 'guardian', 'travel_time',\n",
      "       'study_time', 'class_failures', 'school_support', 'family_support',\n",
      "       'extra_paid_classes', 'activities', 'nursery_school', 'higher_ed',\n",
      "       'internet_access', 'romantic_relationship', 'family_relationship',\n",
      "       'free_time', 'social', 'weekday_alcohol', 'weekend_alcohol', 'health',\n",
      "       'absences', 'grade_1', 'grade_2', 'final_grade'],\n",
      "      dtype='object')\n"
     ]
    }
   ],
   "source": [
    "print(por_df.columns)\n"
   ]
  },
  {
   "cell_type": "markdown",
   "id": "7b738096-3891-452a-9a0a-b8d0cd9d75b0",
   "metadata": {},
   "source": [
    "here i  removes the grade columns, so we only keep the student's personal info like school, age, and address(This is for the student table).\n",
    "after that I  keeps only the grades and the student ID (This is for the grades table)."
   ]
  },
  {
   "cell_type": "code",
   "execution_count": 65,
   "id": "b296fc3c-0e57-41ed-bcb2-098ade08058a",
   "metadata": {},
   "outputs": [],
   "source": [
    "# Student info columns \n",
    "student_info_por = por_df.drop(columns=['grade_1', 'grade_2', 'final_grade'])\n",
    "\n",
    "# Grades columns\n",
    "grades_por = por_df[['student_id', 'grade_1', 'grade_2', 'final_grade']]\n"
   ]
  },
  {
   "cell_type": "markdown",
   "id": "8f2caf88-4fd3-4142-96d5-104f2a491ede",
   "metadata": {},
   "source": [
    "\n",
    "Here I separate the columns into two tables. One table will have the student information (like age, school, and address_type), and the other one will have the grades. I also add a 'subject' column to say if the data is from Math or Portuguese.\n"
   ]
  },
  {
   "cell_type": "markdown",
   "id": "64bd0d0d-7b81-477d-8df5-4c0463ed08d8",
   "metadata": {},
   "source": [
    "I picked a few columns that describe each student. These will go into my students table. I did this for both math and Portuguese datasets."
   ]
  },
  {
   "cell_type": "code",
   "execution_count": 71,
   "id": "ec4109b1-1e2f-4b94-bd8e-295063a8a7eb",
   "metadata": {},
   "outputs": [],
   "source": [
    "# Student info (no grades)\n",
    "student_columns = ['student_id', 'school', 'sex', 'age', 'address_type']\n",
    "\n",
    "# Grade info (keep only grades + student_id)\n",
    "grade_columns = ['student_id', 'grade_1', 'grade_2', 'final_grade']\n"
   ]
  },
  {
   "cell_type": "markdown",
   "id": "325ad752-3efc-4a42-9535-caf8c15330e0",
   "metadata": {},
   "source": [
    "In this step, I made a new table for grades. I picked the grade columns and added a subject column to know if it’s math or Portuguese.\n",
    "\n"
   ]
  },
  {
   "cell_type": "code",
   "execution_count": 70,
   "id": "563d0e6b-b497-42e9-beae-9a69a1f5d553",
   "metadata": {},
   "outputs": [],
   "source": [
    "\n",
    "grades_math = math_df[grade_columns].copy()\n",
    "grades_math['subject'] = 'math'\n",
    "\n",
    "grades_por = por_df[grade_columns].copy()\n",
    "grades_por['subject'] = 'portuguese'\n"
   ]
  },
  {
   "cell_type": "code",
   "execution_count": 67,
   "id": "0e822e28-3870-4d36-9719-581aa4fb20a0",
   "metadata": {},
   "outputs": [],
   "source": [
    "students_math = math_df[['student_id', 'school', 'sex', 'age', 'address_type']]\n",
    "students_por = por_df[['student_id', 'school', 'sex', 'age', 'address_type']]\n"
   ]
  },
  {
   "cell_type": "markdown",
   "id": "94cd3c39-9ab0-4f7b-a172-9945c6010c13",
   "metadata": {},
   "source": [
    "I combined both student and grade tables. For the students table, I used drop_duplicates() to make sure each student only shows once."
   ]
  },
  {
   "cell_type": "code",
   "execution_count": 68,
   "id": "859fff61-af3e-4792-a27a-f52809895060",
   "metadata": {},
   "outputs": [
    {
     "ename": "TypeError",
     "evalue": "first argument must be an iterable of pandas objects, you passed an object of type \"DataFrame\"",
     "output_type": "error",
     "traceback": [
      "\u001b[31m---------------------------------------------------------------------------\u001b[39m",
      "\u001b[31mTypeError\u001b[39m                                 Traceback (most recent call last)",
      "\u001b[36mCell\u001b[39m\u001b[36m \u001b[39m\u001b[32mIn[68]\u001b[39m\u001b[32m, line 3\u001b[39m\n\u001b[32m      1\u001b[39m \u001b[38;5;66;03m# Trying to combine student info \u001b[39;00m\n\u001b[32m----> \u001b[39m\u001b[32m3\u001b[39m students = \u001b[43mpd\u001b[49m\u001b[43m.\u001b[49m\u001b[43mconcat\u001b[49m\u001b[43m(\u001b[49m\u001b[43mstudents_math\u001b[49m\u001b[43m \u001b[49m\u001b[43m+\u001b[49m\u001b[43m \u001b[49m\u001b[43mstudents_por\u001b[49m\u001b[43m)\u001b[49m.drop_duplicates  \n\u001b[32m      4\u001b[39m grades = pd.concat(grades_math + grades_por) \n",
      "\u001b[36mFile \u001b[39m\u001b[32m~\\OneDrive\\Desktop\\elaktif-student-performance-analysis-Capstone\\venv\\Lib\\site-packages\\pandas\\core\\reshape\\concat.py:382\u001b[39m, in \u001b[36mconcat\u001b[39m\u001b[34m(objs, axis, join, ignore_index, keys, levels, names, verify_integrity, sort, copy)\u001b[39m\n\u001b[32m    379\u001b[39m \u001b[38;5;28;01melif\u001b[39;00m copy \u001b[38;5;129;01mand\u001b[39;00m using_copy_on_write():\n\u001b[32m    380\u001b[39m     copy = \u001b[38;5;28;01mFalse\u001b[39;00m\n\u001b[32m--> \u001b[39m\u001b[32m382\u001b[39m op = \u001b[43m_Concatenator\u001b[49m\u001b[43m(\u001b[49m\n\u001b[32m    383\u001b[39m \u001b[43m    \u001b[49m\u001b[43mobjs\u001b[49m\u001b[43m,\u001b[49m\n\u001b[32m    384\u001b[39m \u001b[43m    \u001b[49m\u001b[43maxis\u001b[49m\u001b[43m=\u001b[49m\u001b[43maxis\u001b[49m\u001b[43m,\u001b[49m\n\u001b[32m    385\u001b[39m \u001b[43m    \u001b[49m\u001b[43mignore_index\u001b[49m\u001b[43m=\u001b[49m\u001b[43mignore_index\u001b[49m\u001b[43m,\u001b[49m\n\u001b[32m    386\u001b[39m \u001b[43m    \u001b[49m\u001b[43mjoin\u001b[49m\u001b[43m=\u001b[49m\u001b[43mjoin\u001b[49m\u001b[43m,\u001b[49m\n\u001b[32m    387\u001b[39m \u001b[43m    \u001b[49m\u001b[43mkeys\u001b[49m\u001b[43m=\u001b[49m\u001b[43mkeys\u001b[49m\u001b[43m,\u001b[49m\n\u001b[32m    388\u001b[39m \u001b[43m    \u001b[49m\u001b[43mlevels\u001b[49m\u001b[43m=\u001b[49m\u001b[43mlevels\u001b[49m\u001b[43m,\u001b[49m\n\u001b[32m    389\u001b[39m \u001b[43m    \u001b[49m\u001b[43mnames\u001b[49m\u001b[43m=\u001b[49m\u001b[43mnames\u001b[49m\u001b[43m,\u001b[49m\n\u001b[32m    390\u001b[39m \u001b[43m    \u001b[49m\u001b[43mverify_integrity\u001b[49m\u001b[43m=\u001b[49m\u001b[43mverify_integrity\u001b[49m\u001b[43m,\u001b[49m\n\u001b[32m    391\u001b[39m \u001b[43m    \u001b[49m\u001b[43mcopy\u001b[49m\u001b[43m=\u001b[49m\u001b[43mcopy\u001b[49m\u001b[43m,\u001b[49m\n\u001b[32m    392\u001b[39m \u001b[43m    \u001b[49m\u001b[43msort\u001b[49m\u001b[43m=\u001b[49m\u001b[43msort\u001b[49m\u001b[43m,\u001b[49m\n\u001b[32m    393\u001b[39m \u001b[43m\u001b[49m\u001b[43m)\u001b[49m\n\u001b[32m    395\u001b[39m \u001b[38;5;28;01mreturn\u001b[39;00m op.get_result()\n",
      "\u001b[36mFile \u001b[39m\u001b[32m~\\OneDrive\\Desktop\\elaktif-student-performance-analysis-Capstone\\venv\\Lib\\site-packages\\pandas\\core\\reshape\\concat.py:419\u001b[39m, in \u001b[36m_Concatenator.__init__\u001b[39m\u001b[34m(self, objs, axis, join, keys, levels, names, ignore_index, verify_integrity, copy, sort)\u001b[39m\n\u001b[32m    405\u001b[39m \u001b[38;5;28;01mdef\u001b[39;00m\u001b[38;5;250m \u001b[39m\u001b[34m__init__\u001b[39m(\n\u001b[32m    406\u001b[39m     \u001b[38;5;28mself\u001b[39m,\n\u001b[32m    407\u001b[39m     objs: Iterable[Series | DataFrame] | Mapping[HashableT, Series | DataFrame],\n\u001b[32m   (...)\u001b[39m\u001b[32m    416\u001b[39m     sort: \u001b[38;5;28mbool\u001b[39m = \u001b[38;5;28;01mFalse\u001b[39;00m,\n\u001b[32m    417\u001b[39m ) -> \u001b[38;5;28;01mNone\u001b[39;00m:\n\u001b[32m    418\u001b[39m     \u001b[38;5;28;01mif\u001b[39;00m \u001b[38;5;28misinstance\u001b[39m(objs, (ABCSeries, ABCDataFrame, \u001b[38;5;28mstr\u001b[39m)):\n\u001b[32m--> \u001b[39m\u001b[32m419\u001b[39m         \u001b[38;5;28;01mraise\u001b[39;00m \u001b[38;5;167;01mTypeError\u001b[39;00m(\n\u001b[32m    420\u001b[39m             \u001b[33m\"\u001b[39m\u001b[33mfirst argument must be an iterable of pandas \u001b[39m\u001b[33m\"\u001b[39m\n\u001b[32m    421\u001b[39m             \u001b[33mf\u001b[39m\u001b[33m'\u001b[39m\u001b[33mobjects, you passed an object of type \u001b[39m\u001b[33m\"\u001b[39m\u001b[38;5;132;01m{\u001b[39;00m\u001b[38;5;28mtype\u001b[39m(objs).\u001b[34m__name__\u001b[39m\u001b[38;5;132;01m}\u001b[39;00m\u001b[33m\"\u001b[39m\u001b[33m'\u001b[39m\n\u001b[32m    422\u001b[39m         )\n\u001b[32m    424\u001b[39m     \u001b[38;5;28;01mif\u001b[39;00m join == \u001b[33m\"\u001b[39m\u001b[33mouter\u001b[39m\u001b[33m\"\u001b[39m:\n\u001b[32m    425\u001b[39m         \u001b[38;5;28mself\u001b[39m.intersect = \u001b[38;5;28;01mFalse\u001b[39;00m\n",
      "\u001b[31mTypeError\u001b[39m: first argument must be an iterable of pandas objects, you passed an object of type \"DataFrame\""
     ]
    }
   ],
   "source": [
    "# Trying to combine student info \n",
    "\n",
    "students = pd.concat(students_math + students_por).drop_duplicates  \n",
    "grades = pd.concat(grades_math + grades_por) \n"
   ]
  },
  {
   "cell_type": "code",
   "execution_count": null,
   "id": "e6c84c3a-52f0-49ca-9264-2050f60631d4",
   "metadata": {},
   "outputs": [],
   "source": []
  }
 ],
 "metadata": {
  "kernelspec": {
   "display_name": "Python 3 (ipykernel)",
   "language": "python",
   "name": "python3"
  },
  "language_info": {
   "codemirror_mode": {
    "name": "ipython",
    "version": 3
   },
   "file_extension": ".py",
   "mimetype": "text/x-python",
   "name": "python",
   "nbconvert_exporter": "python",
   "pygments_lexer": "ipython3",
   "version": "3.13.1"
  }
 },
 "nbformat": 4,
 "nbformat_minor": 5
}
