{
 "cells": [
  {
   "cell_type": "markdown",
   "id": "845c89ed-a4ac-4d7e-b892-da458c10a0d7",
   "metadata": {},
   "source": [
    "### Import pandas library\n",
    "\n",
    "This line is to get the pandas tool ready to use in our project.  "
   ]
  },
  {
   "cell_type": "code",
   "execution_count": 16,
   "id": "0fee704c-ba45-4f05-acd2-905004e4686c",
   "metadata": {},
   "outputs": [],
   "source": [
    "import pandas as pd\n",
    "\n"
   ]
  },
  {
   "cell_type": "markdown",
   "id": "a4d29b6d-6cef-40a9-a0fe-8f49b69e66ae",
   "metadata": {},
   "source": [
    "We open the clean data files for Math and Portuguese using pd.read_csv().\n",
    "We save the data in math_df and por_df.\n",
    "Then, we print the shape (size) of each dataset.\n",
    "This shows how many rows and columns are in the files.\n",
    "It helps us understand how much data we have before we start working with it.\n",
    "\n"
   ]
  },
  {
   "cell_type": "code",
   "execution_count": 17,
   "id": "2498a2ea-306c-4f2d-8407-7f76d78987cd",
   "metadata": {},
   "outputs": [
    {
     "name": "stdout",
     "output_type": "stream",
     "text": [
      "Math data size: (395, 34)\n",
      "Portuguese data size: (649, 34)\n"
     ]
    }
   ],
   "source": [
    "\n",
    "math_df = pd.read_csv('./data/student_math_clean_new.csv')\n",
    "por_df = pd.read_csv('./data/student_portuguese_clean_new.csv')\n",
    "print(\"Math data size:\", math_df.shape)\n",
    "print(\"Portuguese data size:\", por_df.shape)\n",
    "\n"
   ]
  },
  {
   "cell_type": "markdown",
   "id": "6bc98541-c043-403f-a87c-621549007413",
   "metadata": {},
   "source": [
    "I made a small function called preview_dataset() to help me look at my data. It shows the name of the dataset, the size (how many rows and columns), and the first two rows. This helps me understand what is inside the data without writing the same code many times."
   ]
  },
  {
   "cell_type": "code",
   "execution_count": 18,
   "id": "54e8349a-d058-4299-9dee-a37a8d8f2e15",
   "metadata": {},
   "outputs": [
    {
     "name": "stdout",
     "output_type": "stream",
     "text": [
      "Preview of Math dataset:\n",
      "(395, 34)\n",
      "   student_id school sex  age address_type     family_size    parent_status  \\\n",
      "0           1     GP   F   18        Urban  Greater than 3            Apart   \n",
      "1           2     GP   F   17        Urban  Greater than 3  Living together   \n",
      "\n",
      "                mother_education               father_education mother_job  \\\n",
      "0               higher education               higher education    at_home   \n",
      "1  primary education (4th grade)  primary education (4th grade)    at_home   \n",
      "\n",
      "   ... family_relationship free_time social weekday_alcohol weekend_alcohol  \\\n",
      "0  ...                   4         3      4               1               1   \n",
      "1  ...                   5         3      3               1               1   \n",
      "\n",
      "   health absences grade_1 grade_2 final_grade  \n",
      "0       3        6       5       6           6  \n",
      "1       3        4       5       5           6  \n",
      "\n",
      "[2 rows x 34 columns]\n",
      "----------------------------------------\n",
      "Preview of Portuguese dataset:\n",
      "(649, 34)\n",
      "   student_id school sex  age address_type     family_size    parent_status  \\\n",
      "0           1     GP   F   18        Urban  Greater than 3            Apart   \n",
      "1           2     GP   F   17        Urban  Greater than 3  Living together   \n",
      "\n",
      "                mother_education               father_education mother_job  \\\n",
      "0               higher education               higher education    at_home   \n",
      "1  primary education (4th grade)  primary education (4th grade)    at_home   \n",
      "\n",
      "   ... family_relationship free_time social weekday_alcohol weekend_alcohol  \\\n",
      "0  ...                   4         3      4               1               1   \n",
      "1  ...                   5         3      3               1               1   \n",
      "\n",
      "   health absences grade_1 grade_2 final_grade  \n",
      "0       3        4       0      11          11  \n",
      "1       3        2       9      11          11  \n",
      "\n",
      "[2 rows x 34 columns]\n",
      "----------------------------------------\n"
     ]
    }
   ],
   "source": [
    "def preview_dataset(df, name):\n",
    "    print(f\"Preview of {name} dataset:\")\n",
    "    print(df.shape)\n",
    "    print(df.head(2))\n",
    "    print(\"-\" * 40)\n",
    "\n",
    "# Then call it like this:\n",
    "preview_dataset(math_df, \"Math\")\n",
    "preview_dataset(por_df, \"Portuguese\")\n"
   ]
  },
  {
   "cell_type": "markdown",
   "id": "8e068ada-b617-497e-8e44-3de1566e5158",
   "metadata": {},
   "source": [
    "This function helps to quickly see how many rows and columns the data has, find any missing values in the columns, and know what type of data is in each column.\n",
    "I use this to understand the data better before working with it."
   ]
  },
  {
   "cell_type": "code",
   "execution_count": 19,
   "id": "a3b660e3-6742-4990-88c3-431e7d06af31",
   "metadata": {},
   "outputs": [
    {
     "name": "stdout",
     "output_type": "stream",
     "text": [
      "Index(['student_id', 'school', 'sex', 'age', 'address_type', 'family_size',\n",
      "       'parent_status', 'mother_education', 'father_education', 'mother_job',\n",
      "       'father_job', 'school_choice_reason', 'guardian', 'travel_time',\n",
      "       'study_time', 'class_failures', 'school_support', 'family_support',\n",
      "       'extra_paid_classes', 'activities', 'nursery_school', 'higher_ed',\n",
      "       'internet_access', 'romantic_relationship', 'family_relationship',\n",
      "       'free_time', 'social', 'weekday_alcohol', 'weekend_alcohol', 'health',\n",
      "       'absences', 'grade_1', 'grade_2', 'final_grade'],\n",
      "      dtype='object')\n"
     ]
    }
   ],
   "source": [
    "print(math_df.columns)\n",
    "\n"
   ]
  },
  {
   "cell_type": "code",
   "execution_count": 20,
   "id": "65bab24b-21c5-4bb8-8bfb-375b795cd55f",
   "metadata": {},
   "outputs": [],
   "source": [
    "# Select student info columns \n",
    "student_info_math = math_df[['student_id', 'school', 'sex', 'age', 'address_type', 'family_size', 'parent_status']]\n",
    "\n",
    "# Select grades columns\n",
    "grades_math = math_df[['student_id', 'grade_1', 'grade_2', 'final_grade']]\n"
   ]
  },
  {
   "cell_type": "code",
   "execution_count": 21,
   "id": "e5a1a57d-6f39-48cb-8121-fd2c6ce14008",
   "metadata": {},
   "outputs": [
    {
     "name": "stdout",
     "output_type": "stream",
     "text": [
      "Index(['student_id', 'school', 'sex', 'age', 'address_type', 'family_size',\n",
      "       'parent_status', 'mother_education', 'father_education', 'mother_job',\n",
      "       'father_job', 'school_choice_reason', 'guardian', 'travel_time',\n",
      "       'study_time', 'class_failures', 'school_support', 'family_support',\n",
      "       'extra_paid_classes', 'activities', 'nursery_school', 'higher_ed',\n",
      "       'internet_access', 'romantic_relationship', 'family_relationship',\n",
      "       'free_time', 'social', 'weekday_alcohol', 'weekend_alcohol', 'health',\n",
      "       'absences', 'grade_1', 'grade_2', 'final_grade'],\n",
      "      dtype='object')\n"
     ]
    }
   ],
   "source": [
    "print(por_df.columns)\n"
   ]
  },
  {
   "cell_type": "markdown",
   "id": "7b738096-3891-452a-9a0a-b8d0cd9d75b0",
   "metadata": {},
   "source": [
    "here i  removes the grade columns, so we only keep the student's personal info like school, age, and address(This is for the student table).\n",
    "after that I  keeps only the grades and the student ID (This is for the grades table)."
   ]
  },
  {
   "cell_type": "code",
   "execution_count": 22,
   "id": "b296fc3c-0e57-41ed-bcb2-098ade08058a",
   "metadata": {},
   "outputs": [],
   "source": [
    "# Student info columns \n",
    "student_info_por = por_df.drop(columns=['grade_1', 'grade_2', 'final_grade'])\n",
    "\n",
    "# Grades columns\n",
    "grades_por = por_df[['student_id', 'grade_1', 'grade_2', 'final_grade']]\n"
   ]
  },
  {
   "cell_type": "markdown",
   "id": "8f2caf88-4fd3-4142-96d5-104f2a491ede",
   "metadata": {},
   "source": [
    "\n",
    "Here I separate the columns into two tables. One table will have the student information (like age, school, and address_type), and the other one will have the grades. I also add a 'subject' column to say if the data is from Math or Portuguese.\n"
   ]
  },
  {
   "cell_type": "markdown",
   "id": "64bd0d0d-7b81-477d-8df5-4c0463ed08d8",
   "metadata": {},
   "source": [
    "I picked a few columns that describe each student. These will go into my students table. I did this for both math and Portuguese datasets."
   ]
  },
  {
   "cell_type": "code",
   "execution_count": 23,
   "id": "ec4109b1-1e2f-4b94-bd8e-295063a8a7eb",
   "metadata": {},
   "outputs": [],
   "source": [
    "# Student info (no grades)\n",
    "student_columns = ['student_id', 'school', 'sex', 'age', 'address_type']\n",
    "\n",
    "# Grade info (keep only grades + student_id)\n",
    "grade_columns = ['student_id', 'grade_1', 'grade_2', 'final_grade']\n"
   ]
  },
  {
   "cell_type": "markdown",
   "id": "325ad752-3efc-4a42-9535-caf8c15330e0",
   "metadata": {},
   "source": [
    "In this step, I made a new table for grades. I picked the grade columns and added a subject column to know if it’s math or Portuguese.\n",
    "\n"
   ]
  },
  {
   "cell_type": "code",
   "execution_count": 24,
   "id": "563d0e6b-b497-42e9-beae-9a69a1f5d553",
   "metadata": {},
   "outputs": [],
   "source": [
    "\n",
    "grades_math = math_df[grade_columns].copy()\n",
    "grades_math['subject'] = 'math'\n",
    "\n",
    "grades_por = por_df[grade_columns].copy()\n",
    "grades_por['subject'] = 'portuguese'\n"
   ]
  },
  {
   "cell_type": "code",
   "execution_count": 25,
   "id": "0e822e28-3870-4d36-9719-581aa4fb20a0",
   "metadata": {},
   "outputs": [],
   "source": [
    "students_math = math_df[['student_id', 'school', 'sex', 'age', 'address_type']]\n",
    "students_por = por_df[['student_id', 'school', 'sex', 'age', 'address_type']]\n"
   ]
  },
  {
   "cell_type": "markdown",
   "id": "94cd3c39-9ab0-4f7b-a172-9945c6010c13",
   "metadata": {},
   "source": [
    "I combined both student and grade tables. For the students table, I used drop_duplicates() to make sure each student only shows once."
   ]
  },
  {
   "cell_type": "code",
   "execution_count": 26,
   "id": "8bb98fb6-84d7-4e19-9641-280ba7142412",
   "metadata": {},
   "outputs": [],
   "source": [
    "# Trying to combine student info \n",
    "students = pd.concat([students_math, students_por]).drop_duplicates()\n",
    "grades = pd.concat([grades_math, grades_por])\n",
    "\n",
    "\n"
   ]
  },
  {
   "cell_type": "markdown",
   "id": "fcf7fa36-4fb9-4b22-8f08-b4da85edb150",
   "metadata": {},
   "source": [
    "In this step, I connect to a database using `sqlite3`. If the database file doesn't exist, it will create a new one called `student_performance.db`.\n"
   ]
  },
  {
   "cell_type": "code",
   "execution_count": 27,
   "id": "e6c84c3a-52f0-49ca-9264-2050f60631d4",
   "metadata": {},
   "outputs": [],
   "source": [
    "import sqlite3\n",
    "\n",
    "# Create or connect to the database file\n",
    "conn = sqlite3.connect('student_performance.db')\n"
   ]
  },
  {
   "cell_type": "markdown",
   "id": "e8719fae-f780-496b-aee2-a32f9614f1c4",
   "metadata": {},
   "source": [
    "Now I will save my `students` and `grades` tables into the database. I use `to_sql()` from pandas to do this. It will create the tables if they don’t already exist.\n"
   ]
  },
  {
   "cell_type": "code",
   "execution_count": 28,
   "id": "417a18e4-67e1-46b2-b628-7f9e695ceba0",
   "metadata": {},
   "outputs": [
    {
     "data": {
      "text/plain": [
       "1044"
      ]
     },
     "execution_count": 28,
     "metadata": {},
     "output_type": "execute_result"
    }
   ],
   "source": [
    "# Save students table to database\n",
    "students.to_sql('students', conn, if_exists='replace', index=False)\n",
    "\n",
    "# Save grades table to database\n",
    "grades.to_sql('grades', conn, if_exists='replace', index=False)\n"
   ]
  },
  {
   "cell_type": "markdown",
   "id": "8dfd9030-cca5-4d4b-9a8c-ee47fdb24410",
   "metadata": {},
   "source": [
    "I use a simple SQL query to check if the `students` table was saved correctly. This will show the first 5 rows.\n"
   ]
  },
  {
   "cell_type": "code",
   "execution_count": 29,
   "id": "e09c41f1-ed56-4b0f-8fa0-e3300f1d61c3",
   "metadata": {},
   "outputs": [
    {
     "data": {
      "text/html": [
       "<div>\n",
       "<style scoped>\n",
       "    .dataframe tbody tr th:only-of-type {\n",
       "        vertical-align: middle;\n",
       "    }\n",
       "\n",
       "    .dataframe tbody tr th {\n",
       "        vertical-align: top;\n",
       "    }\n",
       "\n",
       "    .dataframe thead th {\n",
       "        text-align: right;\n",
       "    }\n",
       "</style>\n",
       "<table border=\"1\" class=\"dataframe\">\n",
       "  <thead>\n",
       "    <tr style=\"text-align: right;\">\n",
       "      <th></th>\n",
       "      <th>student_id</th>\n",
       "      <th>school</th>\n",
       "      <th>sex</th>\n",
       "      <th>age</th>\n",
       "      <th>address_type</th>\n",
       "    </tr>\n",
       "  </thead>\n",
       "  <tbody>\n",
       "    <tr>\n",
       "      <th>0</th>\n",
       "      <td>1</td>\n",
       "      <td>GP</td>\n",
       "      <td>F</td>\n",
       "      <td>18</td>\n",
       "      <td>Urban</td>\n",
       "    </tr>\n",
       "    <tr>\n",
       "      <th>1</th>\n",
       "      <td>2</td>\n",
       "      <td>GP</td>\n",
       "      <td>F</td>\n",
       "      <td>17</td>\n",
       "      <td>Urban</td>\n",
       "    </tr>\n",
       "    <tr>\n",
       "      <th>2</th>\n",
       "      <td>3</td>\n",
       "      <td>GP</td>\n",
       "      <td>F</td>\n",
       "      <td>15</td>\n",
       "      <td>Urban</td>\n",
       "    </tr>\n",
       "    <tr>\n",
       "      <th>3</th>\n",
       "      <td>4</td>\n",
       "      <td>GP</td>\n",
       "      <td>F</td>\n",
       "      <td>15</td>\n",
       "      <td>Urban</td>\n",
       "    </tr>\n",
       "    <tr>\n",
       "      <th>4</th>\n",
       "      <td>5</td>\n",
       "      <td>GP</td>\n",
       "      <td>F</td>\n",
       "      <td>16</td>\n",
       "      <td>Urban</td>\n",
       "    </tr>\n",
       "  </tbody>\n",
       "</table>\n",
       "</div>"
      ],
      "text/plain": [
       "   student_id school sex  age address_type\n",
       "0           1     GP   F   18        Urban\n",
       "1           2     GP   F   17        Urban\n",
       "2           3     GP   F   15        Urban\n",
       "3           4     GP   F   15        Urban\n",
       "4           5     GP   F   16        Urban"
      ]
     },
     "execution_count": 29,
     "metadata": {},
     "output_type": "execute_result"
    }
   ],
   "source": [
    "\n",
    "\n",
    "query = \"SELECT * FROM students LIMIT 5\"\n",
    "pd.read_sql(query, conn)\n"
   ]
  },
  {
   "cell_type": "markdown",
   "id": "28df9fcc-f224-4b7a-b92b-4832a49ddb6c",
   "metadata": {},
   "source": [
    "exemple: Get all students who are 17 years old:"
   ]
  },
  {
   "cell_type": "code",
   "execution_count": 30,
   "id": "29f67272-1f44-4a8d-a55c-94122fe211d6",
   "metadata": {},
   "outputs": [
    {
     "name": "stdout",
     "output_type": "stream",
     "text": [
      "     student_id school sex  age address_type\n",
      "0             2     GP   F   17        Urban\n",
      "1             8     GP   F   17        Urban\n",
      "2            19     GP   M   17        Urban\n",
      "3            79     GP   M   17        Urban\n",
      "4           119     GP   M   17        Rural\n",
      "..          ...    ...  ..  ...          ...\n",
      "250         630     MS   F   17        Rural\n",
      "251         636     MS   F   17        Rural\n",
      "252         639     MS   M   17        Urban\n",
      "253         643     MS   F   17        Urban\n",
      "254         648     MS   M   17        Urban\n",
      "\n",
      "[255 rows x 5 columns]\n"
     ]
    }
   ],
   "source": [
    "query = \"SELECT * FROM students WHERE age = 17\"\n",
    "result = pd.read_sql(query, conn)\n",
    "print(result)"
   ]
  },
  {
   "cell_type": "markdown",
   "id": "a87cef86-e12a-4231-b1d9-bf8d37e9595b",
   "metadata": {},
   "source": [
    "This query joins the `students` table with the `grades` table using the `student_id` column.  \n",
    "It shows student info along with their grades and the subject.\n"
   ]
  },
  {
   "cell_type": "code",
   "execution_count": 36,
   "id": "0bd4f1ec-16a3-4cd4-a79e-7c476b90b33a",
   "metadata": {},
   "outputs": [
    {
     "name": "stdout",
     "output_type": "stream",
     "text": [
      "    student_id school sex  age address_type     subject  grade_1  grade_2  \\\n",
      "0            1     GP   F   18        Urban  portuguese        0       11   \n",
      "1            1     GP   F   18        Urban        math        5        6   \n",
      "2            2     GP   F   17        Urban        math        5        5   \n",
      "3            2     GP   F   17        Urban  portuguese        9       11   \n",
      "4            3     GP   F   15        Urban        math        7        8   \n",
      "5            3     GP   F   15        Urban  portuguese       12       13   \n",
      "6            4     GP   F   15        Urban  portuguese       14       14   \n",
      "7            4     GP   F   15        Urban        math       15       14   \n",
      "8            5     GP   F   16        Urban        math        6       10   \n",
      "9            5     GP   F   16        Urban  portuguese       11       13   \n",
      "10           6     GP   M   16        Urban  portuguese       12       12   \n",
      "11           6     GP   M   16        Urban        math       15       15   \n",
      "12           7     GP   M   16        Urban        math       12       12   \n",
      "13           7     GP   M   16        Urban  portuguese       13       12   \n",
      "14           8     GP   F   17        Urban        math        6        5   \n",
      "15           8     GP   F   17        Urban  portuguese       10       13   \n",
      "16           9     GP   M   15        Urban  portuguese       15       16   \n",
      "17           9     GP   M   15        Urban        math       16       18   \n",
      "18          10     GP   M   15        Urban  portuguese       12       12   \n",
      "19          10     GP   M   15        Urban        math       14       15   \n",
      "20          11     GP   F   15        Urban        math       10        8   \n",
      "21          11     GP   F   15        Urban  portuguese       14       14   \n",
      "22          12     GP   F   15        Urban        math       10       12   \n",
      "23          12     GP   F   15        Urban  portuguese       10       12   \n",
      "24          13     GP   M   15        Urban  portuguese       12       13   \n",
      "25          13     GP   M   15        Urban        math       14       14   \n",
      "26          14     GP   M   15        Urban        math       10       10   \n",
      "27          14     GP   M   15        Urban  portuguese       12       12   \n",
      "28          15     GP   M   15        Urban  portuguese       14       14   \n",
      "29          15     GP   M   15        Urban        math       14       16   \n",
      "30          16     GP   F   16        Urban        math       14       14   \n",
      "31          16     GP   F   16        Urban  portuguese       17       17   \n",
      "32          17     GP   F   16        Urban  portuguese       13       13   \n",
      "33          17     GP   F   16        Urban        math       13       14   \n",
      "34          18     GP   F   16        Urban        math        8       10   \n",
      "35          18     GP   F   16        Urban  portuguese       13       14   \n",
      "36          19     GP   M   17        Urban        math        6        5   \n",
      "37          19     GP   M   17        Urban  portuguese        8        8   \n",
      "38          20     GP   M   16        Urban        math        8       10   \n",
      "39          20     GP   M   16        Urban  portuguese       12       12   \n",
      "\n",
      "    final_grade  \n",
      "0            11  \n",
      "1             6  \n",
      "2             6  \n",
      "3            11  \n",
      "4            10  \n",
      "5            12  \n",
      "6            14  \n",
      "7            15  \n",
      "8            10  \n",
      "9            13  \n",
      "10           13  \n",
      "11           15  \n",
      "12           11  \n",
      "13           13  \n",
      "14            6  \n",
      "15           13  \n",
      "16           17  \n",
      "17           19  \n",
      "18           13  \n",
      "19           15  \n",
      "20            9  \n",
      "21           14  \n",
      "22           12  \n",
      "23           13  \n",
      "24           12  \n",
      "25           14  \n",
      "26           11  \n",
      "27           13  \n",
      "28           15  \n",
      "29           16  \n",
      "30           14  \n",
      "31           17  \n",
      "32           14  \n",
      "33           14  \n",
      "34           10  \n",
      "35           14  \n",
      "36            5  \n",
      "37            7  \n",
      "38           10  \n",
      "39           12  \n"
     ]
    }
   ],
   "source": [
    "query = \"\"\"\n",
    "SELECT students.student_id, students.school, students.sex, students.age, students.address_type,\n",
    "       grades.subject, grades.grade_1, grades.grade_2, grades.final_grade\n",
    "FROM students\n",
    "JOIN grades ON students.student_id = grades.student_id\n",
    "LIMIT 40;\n",
    "\"\"\"\n",
    "\n",
    "joined_data = pd.read_sql(query, conn)\n",
    "print(joined_data)\n"
   ]
  },
  {
   "cell_type": "code",
   "execution_count": 34,
   "id": "d87ace06-c3e5-47f8-aec9-530c8629c994",
   "metadata": {},
   "outputs": [],
   "source": [
    "joined_df.to_csv(\"joined_student_data.csv\", index=False)\n"
   ]
  },
  {
   "cell_type": "code",
   "execution_count": null,
   "id": "745024c3-0da8-4221-98ad-331200d69161",
   "metadata": {},
   "outputs": [],
   "source": []
  }
 ],
 "metadata": {
  "kernelspec": {
   "display_name": "Python 3 (ipykernel)",
   "language": "python",
   "name": "python3"
  },
  "language_info": {
   "codemirror_mode": {
    "name": "ipython",
    "version": 3
   },
   "file_extension": ".py",
   "mimetype": "text/x-python",
   "name": "python",
   "nbconvert_exporter": "python",
   "pygments_lexer": "ipython3",
   "version": "3.13.1"
  }
 },
 "nbformat": 4,
 "nbformat_minor": 5
}
