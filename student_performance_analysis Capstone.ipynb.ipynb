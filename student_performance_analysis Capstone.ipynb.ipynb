{
 "cells": [
  {
   "cell_type": "code",
   "execution_count": 6,
   "id": "0fee704c-ba45-4f05-acd2-905004e4686c",
   "metadata": {},
   "outputs": [],
   "source": [
    "import pandas as pd\n",
    "\n"
   ]
  },
  {
   "cell_type": "code",
   "execution_count": 9,
   "id": "66a785d6-91c7-4346-b1f1-4aa5781140bd",
   "metadata": {},
   "outputs": [
    {
     "name": "stdout",
     "output_type": "stream",
     "text": [
      "C:\\Users\\elaktif\\OneDrive\\Desktop\\elaktif-student-performance-analysis-Capstone\n"
     ]
    }
   ],
   "source": [
    "import os\n",
    "print(os.getcwd())\n"
   ]
  },
  {
   "cell_type": "code",
   "execution_count": 10,
   "id": "42dc2959-6fc9-43f2-a223-f28ff898e718",
   "metadata": {},
   "outputs": [
    {
     "name": "stdout",
     "output_type": "stream",
     "text": [
      "['student_math_clean_new.csv', 'student_portuguese_clean_new.csv']\n"
     ]
    }
   ],
   "source": [
    "print(os.listdir('./data'))\n"
   ]
  },
  {
   "cell_type": "code",
   "execution_count": 12,
   "id": "a10acfb3-f748-480c-a0f0-5f6f971a7f6c",
   "metadata": {},
   "outputs": [
    {
     "name": "stdout",
     "output_type": "stream",
     "text": [
      "Math data shape: (395, 34)\n",
      "Portuguese data shape: (649, 34)\n"
     ]
    }
   ],
   "source": [
    "import pandas as pd\n",
    "\n",
    "math_df = pd.read_csv('./data/student_math_clean_new.csv')\n",
    "por_df = pd.read_csv('./data/student_portuguese_clean_new.csv')\n",
    "\n",
    "print(\"Math data shape:\", math_df.shape)\n",
    "print(\"Portuguese data shape:\", por_df.shape)\n"
   ]
  },
  {
   "cell_type": "code",
   "execution_count": 15,
   "id": "f948c3f8-540c-4890-abc9-37318537ea3a",
   "metadata": {},
   "outputs": [],
   "source": [
    "def check_data(df, name):\n",
    "    print(f\"--- Data info for {name} ---\")\n",
    "    print(f\"Shape: {df.shape}\")  # rows and columns\n",
    "    print(\"Missing values in each column:\")\n",
    "    print(df.isnull().sum())\n",
    "    print(\"\\nData types of columns:\")\n",
    "    print(df.dtypes)\n",
    "    print(\"\\n\")  # blank line for space\n"
   ]
  },
  {
   "cell_type": "code",
   "execution_count": null,
   "id": "d613f16f-eef1-4800-8ca3-56ce230a16d0",
   "metadata": {},
   "outputs": [],
   "source": [
    "This function helps to quickly see how many rows and columns the data has, find any missing values in the columns, and know what type of data is in each column.\n",
    "I use this to understand the data better before working with it."
   ]
  },
  {
   "cell_type": "code",
   "execution_count": 16,
   "id": "373c99b6-4f39-4ff2-a59f-843a1ba2f505",
   "metadata": {},
   "outputs": [
    {
     "name": "stdout",
     "output_type": "stream",
     "text": [
      "--- Data info for Math Dataset ---\n",
      "Shape: (395, 34)\n",
      "Missing values in each column:\n",
      "student_id               0\n",
      "school                   0\n",
      "sex                      0\n",
      "age                      0\n",
      "address_type             0\n",
      "family_size              0\n",
      "parent_status            0\n",
      "mother_education         0\n",
      "father_education         0\n",
      "mother_job               0\n",
      "father_job               0\n",
      "school_choice_reason     0\n",
      "guardian                 0\n",
      "travel_time              0\n",
      "study_time               0\n",
      "class_failures           0\n",
      "school_support           0\n",
      "family_support           0\n",
      "extra_paid_classes       0\n",
      "activities               0\n",
      "nursery_school           0\n",
      "higher_ed                0\n",
      "internet_access          0\n",
      "romantic_relationship    0\n",
      "family_relationship      0\n",
      "free_time                0\n",
      "social                   0\n",
      "weekday_alcohol          0\n",
      "weekend_alcohol          0\n",
      "health                   0\n",
      "absences                 0\n",
      "grade_1                  0\n",
      "grade_2                  0\n",
      "final_grade              0\n",
      "dtype: int64\n",
      "\n",
      "Data types of columns:\n",
      "student_id                int64\n",
      "school                   object\n",
      "sex                      object\n",
      "age                       int64\n",
      "address_type             object\n",
      "family_size              object\n",
      "parent_status            object\n",
      "mother_education         object\n",
      "father_education         object\n",
      "mother_job               object\n",
      "father_job               object\n",
      "school_choice_reason     object\n",
      "guardian                 object\n",
      "travel_time              object\n",
      "study_time               object\n",
      "class_failures            int64\n",
      "school_support           object\n",
      "family_support           object\n",
      "extra_paid_classes       object\n",
      "activities               object\n",
      "nursery_school           object\n",
      "higher_ed                object\n",
      "internet_access          object\n",
      "romantic_relationship    object\n",
      "family_relationship       int64\n",
      "free_time                 int64\n",
      "social                    int64\n",
      "weekday_alcohol           int64\n",
      "weekend_alcohol           int64\n",
      "health                    int64\n",
      "absences                  int64\n",
      "grade_1                   int64\n",
      "grade_2                   int64\n",
      "final_grade               int64\n",
      "dtype: object\n",
      "\n",
      "\n",
      "--- Data info for Portuguese Dataset ---\n",
      "Shape: (649, 34)\n",
      "Missing values in each column:\n",
      "student_id               0\n",
      "school                   0\n",
      "sex                      0\n",
      "age                      0\n",
      "address_type             0\n",
      "family_size              0\n",
      "parent_status            0\n",
      "mother_education         0\n",
      "father_education         0\n",
      "mother_job               0\n",
      "father_job               0\n",
      "school_choice_reason     0\n",
      "guardian                 0\n",
      "travel_time              0\n",
      "study_time               0\n",
      "class_failures           0\n",
      "school_support           0\n",
      "family_support           0\n",
      "extra_paid_classes       0\n",
      "activities               0\n",
      "nursery_school           0\n",
      "higher_ed                0\n",
      "internet_access          0\n",
      "romantic_relationship    0\n",
      "family_relationship      0\n",
      "free_time                0\n",
      "social                   0\n",
      "weekday_alcohol          0\n",
      "weekend_alcohol          0\n",
      "health                   0\n",
      "absences                 0\n",
      "grade_1                  0\n",
      "grade_2                  0\n",
      "final_grade              0\n",
      "dtype: int64\n",
      "\n",
      "Data types of columns:\n",
      "student_id                int64\n",
      "school                   object\n",
      "sex                      object\n",
      "age                       int64\n",
      "address_type             object\n",
      "family_size              object\n",
      "parent_status            object\n",
      "mother_education         object\n",
      "father_education         object\n",
      "mother_job               object\n",
      "father_job               object\n",
      "school_choice_reason     object\n",
      "guardian                 object\n",
      "travel_time              object\n",
      "study_time               object\n",
      "class_failures            int64\n",
      "school_support           object\n",
      "family_support           object\n",
      "extra_paid_classes       object\n",
      "activities               object\n",
      "nursery_school           object\n",
      "higher_ed                object\n",
      "internet_access          object\n",
      "romantic_relationship    object\n",
      "family_relationship       int64\n",
      "free_time                 int64\n",
      "social                    int64\n",
      "weekday_alcohol           int64\n",
      "weekend_alcohol           int64\n",
      "health                    int64\n",
      "absences                  int64\n",
      "grade_1                   int64\n",
      "grade_2                   int64\n",
      "final_grade               int64\n",
      "dtype: object\n",
      "\n",
      "\n"
     ]
    }
   ],
   "source": [
    "check_data(math_df, \"Math Dataset\")\n",
    "check_data(por_df, \"Portuguese Dataset\")\n"
   ]
  },
  {
   "cell_type": "code",
   "execution_count": 18,
   "id": "a3b660e3-6742-4990-88c3-431e7d06af31",
   "metadata": {},
   "outputs": [
    {
     "name": "stdout",
     "output_type": "stream",
     "text": [
      "Index(['student_id', 'school', 'sex', 'age', 'address_type', 'family_size',\n",
      "       'parent_status', 'mother_education', 'father_education', 'mother_job',\n",
      "       'father_job', 'school_choice_reason', 'guardian', 'travel_time',\n",
      "       'study_time', 'class_failures', 'school_support', 'family_support',\n",
      "       'extra_paid_classes', 'activities', 'nursery_school', 'higher_ed',\n",
      "       'internet_access', 'romantic_relationship', 'family_relationship',\n",
      "       'free_time', 'social', 'weekday_alcohol', 'weekend_alcohol', 'health',\n",
      "       'absences', 'grade_1', 'grade_2', 'final_grade'],\n",
      "      dtype='object')\n"
     ]
    }
   ],
   "source": [
    "print(math_df.columns)\n",
    "\n"
   ]
  },
  {
   "cell_type": "code",
   "execution_count": 21,
   "id": "65bab24b-21c5-4bb8-8bfb-375b795cd55f",
   "metadata": {},
   "outputs": [],
   "source": [
    "# Select student info columns \n",
    "student_info_math = math_df[['student_id', 'school', 'sex', 'age', 'address_type', 'family_size', 'parent_status']]\n",
    "\n",
    "# Select grades columns\n",
    "grades_math = math_df[['student_id', 'grade_1', 'grade_2', 'final_grade']]\n"
   ]
  },
  {
   "cell_type": "code",
   "execution_count": 22,
   "id": "e5a1a57d-6f39-48cb-8121-fd2c6ce14008",
   "metadata": {},
   "outputs": [
    {
     "name": "stdout",
     "output_type": "stream",
     "text": [
      "Index(['student_id', 'school', 'sex', 'age', 'address_type', 'family_size',\n",
      "       'parent_status', 'mother_education', 'father_education', 'mother_job',\n",
      "       'father_job', 'school_choice_reason', 'guardian', 'travel_time',\n",
      "       'study_time', 'class_failures', 'school_support', 'family_support',\n",
      "       'extra_paid_classes', 'activities', 'nursery_school', 'higher_ed',\n",
      "       'internet_access', 'romantic_relationship', 'family_relationship',\n",
      "       'free_time', 'social', 'weekday_alcohol', 'weekend_alcohol', 'health',\n",
      "       'absences', 'grade_1', 'grade_2', 'final_grade'],\n",
      "      dtype='object')\n"
     ]
    }
   ],
   "source": [
    "print(por_df.columns)\n"
   ]
  },
  {
   "cell_type": "code",
   "execution_count": 23,
   "id": "b296fc3c-0e57-41ed-bcb2-098ade08058a",
   "metadata": {},
   "outputs": [],
   "source": [
    "# Student info columns (all except grades)\n",
    "student_info_por = por_df.drop(columns=['grade_1', 'grade_2', 'final_grade'])\n",
    "\n",
    "# Grades columns\n",
    "grades_por = por_df[['student_id', 'grade_1', 'grade_2', 'final_grade']]\n"
   ]
  },
  {
   "cell_type": "code",
   "execution_count": null,
   "id": "71a36d6d-9e13-42d4-9613-84449ad7feaa",
   "metadata": {},
   "outputs": [],
   "source": []
  }
 ],
 "metadata": {
  "kernelspec": {
   "display_name": "Python 3 (ipykernel)",
   "language": "python",
   "name": "python3"
  },
  "language_info": {
   "codemirror_mode": {
    "name": "ipython",
    "version": 3
   },
   "file_extension": ".py",
   "mimetype": "text/x-python",
   "name": "python",
   "nbconvert_exporter": "python",
   "pygments_lexer": "ipython3",
   "version": "3.13.1"
  }
 },
 "nbformat": 4,
 "nbformat_minor": 5
}
